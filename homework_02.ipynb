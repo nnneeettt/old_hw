{
 "cells": [
  {
   "cell_type": "markdown",
   "metadata": {},
   "source": [
    "## Введение в анализ данных, ИАД-1\n",
    "\n",
    "## НИУ ВШЭ, 2018-19 учебный год"
   ]
  },
  {
   "cell_type": "markdown",
   "metadata": {},
   "source": [
    "### Домашнее задание №2"
   ]
  },
  {
   "cell_type": "markdown",
   "metadata": {},
   "source": [
    "Задание выполнил(а): _Билева Анна_"
   ]
  },
  {
   "cell_type": "markdown",
   "metadata": {},
   "source": [
    "### Общая информация"
   ]
  },
  {
   "cell_type": "markdown",
   "metadata": {},
   "source": [
    "__Дата выдачи:__ 25.02.2019\n",
    "\n",
    "__Дедлайн:__ 23:59 5.03.2019"
   ]
  },
  {
   "cell_type": "markdown",
   "metadata": {},
   "source": [
    "### О задании"
   ]
  },
  {
   "cell_type": "markdown",
   "metadata": {},
   "source": [
    "В данном домашнем задании вы реализуете линейную регрессию своими руками и сравните её с версией в scikit-learn."
   ]
  },
  {
   "cell_type": "markdown",
   "metadata": {},
   "source": [
    "### Оценивание и штрафы\n",
    "\n",
    "За сдачу задания позже срока на итоговую оценку за задание накладывается штраф в размере 1 балл в день, но получить отрицательную оценку нельзя."
   ]
  },
  {
   "cell_type": "markdown",
   "metadata": {},
   "source": [
    "__Внимание!__ Домашнее задание выполняется самостоятельно. «Похожие» решения считаются плагиатом и все задействованные студенты (в том числе те, у кого списали) не могут получить за него больше 0 баллов."
   ]
  },
  {
   "cell_type": "markdown",
   "metadata": {},
   "source": [
    "### Формат сдачи"
   ]
  },
  {
   "cell_type": "markdown",
   "metadata": {},
   "source": [
    "__Стирать условия нельзя!__\n",
    "\n",
    "Загрузка файлов с решениями происходит в системе [Anytask](https://anytask.org/).\n",
    "\n",
    "Формат названия файла: homework_02_Фамилия_Имя.ipynb"
   ]
  },
  {
   "cell_type": "markdown",
   "metadata": {},
   "source": [
    "## Часть 1. Обыкновенная линейная регрессия"
   ]
  },
  {
   "cell_type": "code",
   "execution_count": 1,
   "metadata": {},
   "outputs": [],
   "source": [
    "import numpy as np\n",
    "import pandas as pd\n",
    "import matplotlib.pyplot as plt\n",
    "import seaborn as sns; sns.set(style='darkgrid')\n",
    "from sklearn.base import BaseEstimator\n",
    "from sklearn.datasets import load_boston\n",
    "from sklearn.linear_model import LinearRegression, Ridge, Lasso\n",
    "from sklearn.metrics import mean_absolute_error, mean_squared_error\n",
    "from sklearn.model_selection import train_test_split, cross_validate, GridSearchCV\n",
    "from sklearn.preprocessing import normalize\n",
    "%matplotlib inline\n",
    "np.random.seed(seed=42)"
   ]
  },
  {
   "cell_type": "markdown",
   "metadata": {},
   "source": [
    "### 1 (4 балла). \n",
    "На семинаре мы начали реализовывать класс линейной регрессии; теперь необходимо его закончить. "
   ]
  },
  {
   "cell_type": "code",
   "execution_count": 2,
   "metadata": {},
   "outputs": [],
   "source": [
    "class LinReg(BaseEstimator):\n",
    "    def __init__(self, step_size=0.1, num_steps=20, eps=1e-6):\n",
    "        self.w = None # веса\n",
    "        self.step_size = step_size\n",
    "        self.num_steps = num_steps\n",
    "        self.eps = eps\n",
    "    \n",
    "    def __calc_grad(self, X_train, y_train):\n",
    "        return 2 * np.dot(np.transpose(X_train), (np.dot(X_train, self.w) - y_train))\n",
    "    \n",
    "    def fit(self, X_train, y_train):\n",
    "        self.w = np.random.rand(X_train.shape[1])\n",
    "        for step in range(self.num_steps):\n",
    "            w_next = self.w - self.step_size * self.__calc_grad(X_train, y_train)\n",
    "            if np.linalg.norm(w_next - self.w) < self.eps:\n",
    "                break\n",
    "            self.w = w_next\n",
    "        return self\n",
    "        \n",
    "    def predict(self, X_test):\n",
    "        return np.dot(X_test, self.w)"
   ]
  },
  {
   "cell_type": "markdown",
   "metadata": {},
   "source": [
    "### 2 (3 балла). \n",
    "Проверим корректность работы класса на датасете Boston Housing. \n",
    "* Загрузите его из sklearn\n",
    "* Проведите предобработку данных(нормализация вещественных признаков, one-hot encoding категориальных)\n",
    "* Разделите на обучение и контроль в соотношении 80:20 с random_seed 42 (самый популярный в прошлом задании)\n",
    "* Обучите собственную реализацию регрессии и сравните по метрикам MAE и RMSE с LinearRegression из sklearn."
   ]
  },
  {
   "cell_type": "code",
   "execution_count": 3,
   "metadata": {},
   "outputs": [
    {
     "data": {
      "text/html": [
       "<div>\n",
       "<style scoped>\n",
       "    .dataframe tbody tr th:only-of-type {\n",
       "        vertical-align: middle;\n",
       "    }\n",
       "\n",
       "    .dataframe tbody tr th {\n",
       "        vertical-align: top;\n",
       "    }\n",
       "\n",
       "    .dataframe thead th {\n",
       "        text-align: right;\n",
       "    }\n",
       "</style>\n",
       "<table border=\"1\" class=\"dataframe\">\n",
       "  <thead>\n",
       "    <tr style=\"text-align: right;\">\n",
       "      <th></th>\n",
       "      <th>0</th>\n",
       "      <th>1</th>\n",
       "      <th>2</th>\n",
       "      <th>3</th>\n",
       "      <th>4</th>\n",
       "      <th>5</th>\n",
       "      <th>6</th>\n",
       "      <th>7</th>\n",
       "      <th>8</th>\n",
       "      <th>9</th>\n",
       "      <th>10</th>\n",
       "      <th>11</th>\n",
       "      <th>12</th>\n",
       "    </tr>\n",
       "  </thead>\n",
       "  <tbody>\n",
       "    <tr>\n",
       "      <th>0</th>\n",
       "      <td>0.00632</td>\n",
       "      <td>18.0</td>\n",
       "      <td>2.31</td>\n",
       "      <td>0.0</td>\n",
       "      <td>0.538</td>\n",
       "      <td>6.575</td>\n",
       "      <td>65.2</td>\n",
       "      <td>4.0900</td>\n",
       "      <td>1.0</td>\n",
       "      <td>296.0</td>\n",
       "      <td>15.3</td>\n",
       "      <td>396.90</td>\n",
       "      <td>4.98</td>\n",
       "    </tr>\n",
       "    <tr>\n",
       "      <th>1</th>\n",
       "      <td>0.02731</td>\n",
       "      <td>0.0</td>\n",
       "      <td>7.07</td>\n",
       "      <td>0.0</td>\n",
       "      <td>0.469</td>\n",
       "      <td>6.421</td>\n",
       "      <td>78.9</td>\n",
       "      <td>4.9671</td>\n",
       "      <td>2.0</td>\n",
       "      <td>242.0</td>\n",
       "      <td>17.8</td>\n",
       "      <td>396.90</td>\n",
       "      <td>9.14</td>\n",
       "    </tr>\n",
       "    <tr>\n",
       "      <th>2</th>\n",
       "      <td>0.02729</td>\n",
       "      <td>0.0</td>\n",
       "      <td>7.07</td>\n",
       "      <td>0.0</td>\n",
       "      <td>0.469</td>\n",
       "      <td>7.185</td>\n",
       "      <td>61.1</td>\n",
       "      <td>4.9671</td>\n",
       "      <td>2.0</td>\n",
       "      <td>242.0</td>\n",
       "      <td>17.8</td>\n",
       "      <td>392.83</td>\n",
       "      <td>4.03</td>\n",
       "    </tr>\n",
       "    <tr>\n",
       "      <th>3</th>\n",
       "      <td>0.03237</td>\n",
       "      <td>0.0</td>\n",
       "      <td>2.18</td>\n",
       "      <td>0.0</td>\n",
       "      <td>0.458</td>\n",
       "      <td>6.998</td>\n",
       "      <td>45.8</td>\n",
       "      <td>6.0622</td>\n",
       "      <td>3.0</td>\n",
       "      <td>222.0</td>\n",
       "      <td>18.7</td>\n",
       "      <td>394.63</td>\n",
       "      <td>2.94</td>\n",
       "    </tr>\n",
       "    <tr>\n",
       "      <th>4</th>\n",
       "      <td>0.06905</td>\n",
       "      <td>0.0</td>\n",
       "      <td>2.18</td>\n",
       "      <td>0.0</td>\n",
       "      <td>0.458</td>\n",
       "      <td>7.147</td>\n",
       "      <td>54.2</td>\n",
       "      <td>6.0622</td>\n",
       "      <td>3.0</td>\n",
       "      <td>222.0</td>\n",
       "      <td>18.7</td>\n",
       "      <td>396.90</td>\n",
       "      <td>5.33</td>\n",
       "    </tr>\n",
       "  </tbody>\n",
       "</table>\n",
       "</div>"
      ],
      "text/plain": [
       "        0     1     2    3      4      5     6       7    8      9     10  \\\n",
       "0  0.00632  18.0  2.31  0.0  0.538  6.575  65.2  4.0900  1.0  296.0  15.3   \n",
       "1  0.02731   0.0  7.07  0.0  0.469  6.421  78.9  4.9671  2.0  242.0  17.8   \n",
       "2  0.02729   0.0  7.07  0.0  0.469  7.185  61.1  4.9671  2.0  242.0  17.8   \n",
       "3  0.03237   0.0  2.18  0.0  0.458  6.998  45.8  6.0622  3.0  222.0  18.7   \n",
       "4  0.06905   0.0  2.18  0.0  0.458  7.147  54.2  6.0622  3.0  222.0  18.7   \n",
       "\n",
       "       11    12  \n",
       "0  396.90  4.98  \n",
       "1  396.90  9.14  \n",
       "2  392.83  4.03  \n",
       "3  394.63  2.94  \n",
       "4  396.90  5.33  "
      ]
     },
     "execution_count": 3,
     "metadata": {},
     "output_type": "execute_result"
    }
   ],
   "source": [
    "boston_data = load_boston()\n",
    "df = pd.DataFrame(boston_data.data)\n",
    "df.head() # это данные без целевого признака"
   ]
  },
  {
   "cell_type": "markdown",
   "metadata": {},
   "source": [
    "Категориальных признаков нет, только вещественные; отнормируем их."
   ]
  },
  {
   "cell_type": "code",
   "execution_count": 4,
   "metadata": {},
   "outputs": [
    {
     "data": {
      "text/html": [
       "<div>\n",
       "<style scoped>\n",
       "    .dataframe tbody tr th:only-of-type {\n",
       "        vertical-align: middle;\n",
       "    }\n",
       "\n",
       "    .dataframe tbody tr th {\n",
       "        vertical-align: top;\n",
       "    }\n",
       "\n",
       "    .dataframe thead th {\n",
       "        text-align: right;\n",
       "    }\n",
       "</style>\n",
       "<table border=\"1\" class=\"dataframe\">\n",
       "  <thead>\n",
       "    <tr style=\"text-align: right;\">\n",
       "      <th></th>\n",
       "      <th>0</th>\n",
       "      <th>1</th>\n",
       "      <th>2</th>\n",
       "      <th>3</th>\n",
       "      <th>4</th>\n",
       "      <th>5</th>\n",
       "      <th>6</th>\n",
       "      <th>7</th>\n",
       "      <th>8</th>\n",
       "      <th>9</th>\n",
       "      <th>10</th>\n",
       "      <th>11</th>\n",
       "      <th>12</th>\n",
       "    </tr>\n",
       "  </thead>\n",
       "  <tbody>\n",
       "    <tr>\n",
       "      <th>0</th>\n",
       "      <td>0.000013</td>\n",
       "      <td>0.035997</td>\n",
       "      <td>0.004620</td>\n",
       "      <td>0.0</td>\n",
       "      <td>0.001076</td>\n",
       "      <td>0.013149</td>\n",
       "      <td>0.130388</td>\n",
       "      <td>0.008179</td>\n",
       "      <td>0.002000</td>\n",
       "      <td>0.591945</td>\n",
       "      <td>0.030597</td>\n",
       "      <td>0.793727</td>\n",
       "      <td>0.009959</td>\n",
       "    </tr>\n",
       "    <tr>\n",
       "      <th>1</th>\n",
       "      <td>0.000058</td>\n",
       "      <td>0.000000</td>\n",
       "      <td>0.014977</td>\n",
       "      <td>0.0</td>\n",
       "      <td>0.000994</td>\n",
       "      <td>0.013602</td>\n",
       "      <td>0.167140</td>\n",
       "      <td>0.010522</td>\n",
       "      <td>0.004237</td>\n",
       "      <td>0.512648</td>\n",
       "      <td>0.037707</td>\n",
       "      <td>0.840785</td>\n",
       "      <td>0.019362</td>\n",
       "    </tr>\n",
       "    <tr>\n",
       "      <th>2</th>\n",
       "      <td>0.000059</td>\n",
       "      <td>0.000000</td>\n",
       "      <td>0.015174</td>\n",
       "      <td>0.0</td>\n",
       "      <td>0.001007</td>\n",
       "      <td>0.015421</td>\n",
       "      <td>0.131140</td>\n",
       "      <td>0.010661</td>\n",
       "      <td>0.004293</td>\n",
       "      <td>0.519409</td>\n",
       "      <td>0.038204</td>\n",
       "      <td>0.843138</td>\n",
       "      <td>0.008650</td>\n",
       "    </tr>\n",
       "    <tr>\n",
       "      <th>3</th>\n",
       "      <td>0.000071</td>\n",
       "      <td>0.000000</td>\n",
       "      <td>0.004785</td>\n",
       "      <td>0.0</td>\n",
       "      <td>0.001005</td>\n",
       "      <td>0.015360</td>\n",
       "      <td>0.100527</td>\n",
       "      <td>0.013306</td>\n",
       "      <td>0.006585</td>\n",
       "      <td>0.487268</td>\n",
       "      <td>0.041045</td>\n",
       "      <td>0.866174</td>\n",
       "      <td>0.006453</td>\n",
       "    </tr>\n",
       "    <tr>\n",
       "      <th>4</th>\n",
       "      <td>0.000151</td>\n",
       "      <td>0.000000</td>\n",
       "      <td>0.004755</td>\n",
       "      <td>0.0</td>\n",
       "      <td>0.000999</td>\n",
       "      <td>0.015587</td>\n",
       "      <td>0.118209</td>\n",
       "      <td>0.013222</td>\n",
       "      <td>0.006543</td>\n",
       "      <td>0.484177</td>\n",
       "      <td>0.040784</td>\n",
       "      <td>0.865631</td>\n",
       "      <td>0.011625</td>\n",
       "    </tr>\n",
       "  </tbody>\n",
       "</table>\n",
       "</div>"
      ],
      "text/plain": [
       "         0         1         2    3         4         5         6         7   \\\n",
       "0  0.000013  0.035997  0.004620  0.0  0.001076  0.013149  0.130388  0.008179   \n",
       "1  0.000058  0.000000  0.014977  0.0  0.000994  0.013602  0.167140  0.010522   \n",
       "2  0.000059  0.000000  0.015174  0.0  0.001007  0.015421  0.131140  0.010661   \n",
       "3  0.000071  0.000000  0.004785  0.0  0.001005  0.015360  0.100527  0.013306   \n",
       "4  0.000151  0.000000  0.004755  0.0  0.000999  0.015587  0.118209  0.013222   \n",
       "\n",
       "         8         9         10        11        12  \n",
       "0  0.002000  0.591945  0.030597  0.793727  0.009959  \n",
       "1  0.004237  0.512648  0.037707  0.840785  0.019362  \n",
       "2  0.004293  0.519409  0.038204  0.843138  0.008650  \n",
       "3  0.006585  0.487268  0.041045  0.866174  0.006453  \n",
       "4  0.006543  0.484177  0.040784  0.865631  0.011625  "
      ]
     },
     "execution_count": 4,
     "metadata": {},
     "output_type": "execute_result"
    }
   ],
   "source": [
    "df = pd.DataFrame(normalize(df))\n",
    "df.head()"
   ]
  },
  {
   "cell_type": "markdown",
   "metadata": {},
   "source": [
    "Разделим на обучающую и тестовую выборки:"
   ]
  },
  {
   "cell_type": "code",
   "execution_count": 5,
   "metadata": {},
   "outputs": [],
   "source": [
    "X_train, X_test, y_train, y_test = train_test_split(df, boston_data.target, test_size=0.2, random_state=42)"
   ]
  },
  {
   "cell_type": "markdown",
   "metadata": {},
   "source": [
    "Обучим нашу линейную регрессию и регрессию из sklearn:"
   ]
  },
  {
   "cell_type": "code",
   "execution_count": 6,
   "metadata": {},
   "outputs": [
    {
     "name": "stdout",
     "output_type": "stream",
     "text": [
      "LinReg\n",
      "MAE: 4.2083329380419885\n",
      "RMSE: 5.814768439114835\n",
      "LinearRegression\n",
      "MAE: 3.061883108828705\n",
      "RMSE: 4.809944096526614\n"
     ]
    }
   ],
   "source": [
    "lr1 = LinReg(num_steps=10000, step_size=0.002, eps=1e-8)\n",
    "lr1.fit(X_train, y_train)\n",
    "y1_pred = lr1.predict(X_test)\n",
    "print('LinReg')\n",
    "print('MAE:', mean_absolute_error(y_test, y1_pred))\n",
    "print('RMSE:', np.sqrt(mean_squared_error(y_test, y1_pred)))\n",
    "lr2 = LinearRegression()\n",
    "lr2.fit(X_train, y_train)\n",
    "y2_pred = lr2.predict(X_test)\n",
    "print('LinearRegression')\n",
    "print('MAE:', mean_absolute_error(y_test, y2_pred))\n",
    "print('RMSE:', np.sqrt(mean_squared_error(y_test, y2_pred)))"
   ]
  },
  {
   "cell_type": "markdown",
   "metadata": {
    "collapsed": true
   },
   "source": [
    "#### 3 (3 балла). \n",
    "Линейная регрессия зачастую легко переобучается - модель необходимо штрафовать за величину весов; для этого применяют L1 и L2 регуляризацию: добавление нормы весов к функции потерь. В случае L2-регулязации функционал будет выглядеть как\n",
    "\n",
    "$$ L = (Xw - y)^T(Xw - y) + \\lambda||w||_2 $$.\n",
    "\n",
    "Параметр $\\lambda$ подбирается на отложенной выборке или по кросс-валидации.\n",
    "\n",
    "* Реализуйте обучение линейной регрессии с L2-регуляризацией\n",
    "* Найдите оптимальный с точки зрения метрики MAE коэффициент $\\lambda$ (по кросс-валидации)\n",
    "* Постройте график зависимости метрики на тестовой выборке от $\\lambda$ (__подпишите оси__)\n",
    "* Сравните результаты с Ridge регрессией из sklearn (аналогично пункту 2)."
   ]
  },
  {
   "cell_type": "markdown",
   "metadata": {},
   "source": [
    "Градиент функционала будет иметь вид:\n",
    "$$ \\triangledown L(w)= 2X^T(Xw-y) + 2\\lambda w$$\n",
    "Реализуем линейную регрессию с L2-регуляризацией."
   ]
  },
  {
   "cell_type": "code",
   "execution_count": 7,
   "metadata": {},
   "outputs": [],
   "source": [
    "class RegL2(BaseEstimator):\n",
    "    def __init__(self, step_size=0.002, num_steps=10000, eps=1e-8, lambda_coef=0.0001):\n",
    "        self.w = None # веса\n",
    "        self.step_size = step_size\n",
    "        self.num_steps = num_steps\n",
    "        self.eps = eps\n",
    "        self.lambda_coef = lambda_coef\n",
    "    \n",
    "    def __calc_grad(self, X_train, y_train):\n",
    "        return 2 * np.dot(np.transpose(X_train), (np.dot(X_train, self.w) - y_train)) + 2 * self.lambda_coef * self.w\n",
    "    \n",
    "    def fit(self, X_train, y_train):\n",
    "        self.w = np.random.rand(X_train.shape[1])\n",
    "        for step in range(self.num_steps):\n",
    "            w_next = self.w - self.step_size * self.__calc_grad(X_train, y_train)\n",
    "            if np.linalg.norm(w_next - self.w) < self.eps:\n",
    "                break\n",
    "            self.w = w_next\n",
    "        return self\n",
    "        \n",
    "    def predict(self, X_test):\n",
    "        return np.dot(X_test, self.w)"
   ]
  },
  {
   "cell_type": "markdown",
   "metadata": {},
   "source": [
    "Найдём оптимальный коэффициент $\\lambda$ с точки зрения MAE. "
   ]
  },
  {
   "cell_type": "code",
   "execution_count": 8,
   "metadata": {},
   "outputs": [
    {
     "name": "stdout",
     "output_type": "stream",
     "text": [
      "0.0001 4.797948388133083\n"
     ]
    }
   ],
   "source": [
    "lambdas = np.arange(0.0001, 0.001, 0.0001)\n",
    "optimal_lambda = 0\n",
    "min_score = 1e8\n",
    "mae_values = []\n",
    "for lambda_coef in lambdas:\n",
    "    lr_reg = RegL2(lambda_coef=lambda_coef)\n",
    "    cv_results = cross_validate(lr_reg, X_train, y_train, scoring='neg_mean_absolute_error', cv=3, \n",
    "                                return_train_score=False)\n",
    "    score = np.abs((cv_results['test_score'][0] + cv_results['test_score'][1] +\n",
    "                              cv_results['test_score'][2]) / 3)\n",
    "    mae_values.append(score)\n",
    "    if score < min_score: \n",
    "        optimal_lambda = lambda_coef\n",
    "        min_score = score\n",
    "print(optimal_lambda, min_score)"
   ]
  },
  {
   "cell_type": "markdown",
   "metadata": {},
   "source": [
    "Построим график зависимости MAE от $\\lambda$."
   ]
  },
  {
   "cell_type": "code",
   "execution_count": 9,
   "metadata": {},
   "outputs": [
    {
     "data": {
      "image/png": "[encoded data removed]",
      "text/plain": [
       "<Figure size 936x432 with 1 Axes>"
      ]
     },
     "metadata": {},
     "output_type": "display_data"
    }
   ],
   "source": [
    "plt.figure(figsize=(13, 6))\n",
    "plt.plot(lambdas, mae_values)\n",
    "plt.title('MAE dependence on λ in L2 regularization')\n",
    "plt.xlabel('λ')\n",
    "plt.ylabel('MAE')\n",
    "plt.show()"
   ]
  },
  {
   "cell_type": "markdown",
   "metadata": {},
   "source": [
    "Судя по всему, модель не переобучается и в регуляризации не нуждается, т.к. чем ближе $\\lambda$ к нулю, тем MAE меньше. Обучим и сравним нашу линейную регрессию и Ridge из sklearn."
   ]
  },
  {
   "cell_type": "code",
   "execution_count": 10,
   "metadata": {},
   "outputs": [
    {
     "name": "stdout",
     "output_type": "stream",
     "text": [
      "RegL2:\n",
      "MAE: 4.207951907818764\n",
      "RMSE: 5.815188382415841\n",
      "Ridge:\n",
      "MAE: 3.0011297523504274\n",
      "RMSE: 4.74714557010129\n"
     ]
    }
   ],
   "source": [
    "lr1 = RegL2()\n",
    "lr1.fit(X_train, y_train)\n",
    "y1_pred = lr1.predict(X_test)\n",
    "print('RegL2:')\n",
    "print('MAE:', mean_absolute_error(y_test, y1_pred))\n",
    "print('RMSE:', np.sqrt(mean_squared_error(y_test, y1_pred)))\n",
    "lr2 = Ridge(alpha=0.0001)\n",
    "lr2.fit(X_train, y_train)\n",
    "y2_pred = lr2.predict(X_test)\n",
    "print('Ridge:')\n",
    "print('MAE:', mean_absolute_error(y_test, y2_pred))\n",
    "print('RMSE:', np.sqrt(mean_squared_error(y_test, y2_pred)))"
   ]
  },
  {
   "cell_type": "markdown",
   "metadata": {},
   "source": [
    "### 4 (Бонус, 4 балла). \n",
    "* Реализуйте обучение линейной регрессии с L1-регуляризацией (класс RegL1)\n",
    "* Проведите сравнения аналогично пункту 3 (но с Lasso вместо Ridge)."
   ]
  },
  {
   "cell_type": "markdown",
   "metadata": {},
   "source": [
    "У нормы $L_1$ нет градиента, так как модуль не является дифференцируемой функцией. Тем не менее, можно обобщить понятие градиента для выпуклых функций (которой и является модуль) и ввести понятие субградиента, который можно посчитать в любой точке. Субградиентом модуля является функция sgn(x), принимающая значение -1 при x<0, 0 при x=0, 1 при x>0. Таким образом, субградиент функционала $L_1$ будет иметь вид:\n",
    "$$\\triangledown L_1 (w) = 2X^T(Xw-y) + \\lambda sgn(w)$$\n",
    "Под sgn(w) понимается sgn($\\sum_i w_i$)."
   ]
  },
  {
   "cell_type": "code",
   "execution_count": 11,
   "metadata": {},
   "outputs": [],
   "source": [
    "class RegL1(BaseEstimator):\n",
    "    def __init__(self, step_size=0.002, num_steps=10000, eps=1e-8, lambda_coef=15):\n",
    "        self.w = None # веса\n",
    "        self.step_size = step_size\n",
    "        self.num_steps = num_steps\n",
    "        self.eps = eps\n",
    "        self.lambda_coef = lambda_coef\n",
    "        \n",
    "    def __sgn(self):\n",
    "        if np.sum(self.w) > 0:\n",
    "            return 1\n",
    "        elif np.sum(self.w) == 0:\n",
    "            return 0\n",
    "        else:\n",
    "            return -1\n",
    "    \n",
    "    def __calc_grad(self, X_train, y_train):\n",
    "        return 2 * np.dot(np.transpose(X_train), (np.dot(X_train, self.w) - y_train)) + self.lambda_coef * self.__sgn()\n",
    "    \n",
    "    def fit(self, X_train, y_train):\n",
    "        self.w = np.random.rand(X_train.shape[1])\n",
    "        for step in range(self.num_steps):\n",
    "            w_next = self.w - self.step_size * self.__calc_grad(X_train, y_train)\n",
    "            if np.linalg.norm(w_next - self.w) < self.eps:\n",
    "                break\n",
    "            self.w = w_next\n",
    "        return self\n",
    "        \n",
    "    def predict(self, X_test):\n",
    "        return np.dot(X_test, self.w)"
   ]
  },
  {
   "cell_type": "markdown",
   "metadata": {},
   "source": [
    "Повторим все те же действия, что и в прошлом пункте."
   ]
  },
  {
   "cell_type": "code",
   "execution_count": 12,
   "metadata": {},
   "outputs": [
    {
     "name": "stdout",
     "output_type": "stream",
     "text": [
      "15 5.838279694812987\n"
     ]
    }
   ],
   "source": [
    "lambdas = [1, 5, 10, 15, 20]\n",
    "optimal_lambda = 0\n",
    "min_score = 1e8\n",
    "mae_values = []\n",
    "for lambda_coef in lambdas:\n",
    "    lr_reg = RegL2(lambda_coef=lambda_coef)\n",
    "    cv_results = cross_validate(lr_reg, X_train, y_train, scoring='neg_mean_absolute_error', cv=3, \n",
    "                                return_train_score=False)\n",
    "    score = np.abs((cv_results['test_score'][0] + cv_results['test_score'][1] +\n",
    "                              cv_results['test_score'][2]) / 3)\n",
    "    mae_values.append(score)\n",
    "    if score < min_score: \n",
    "        optimal_lambda = lambda_coef\n",
    "        min_score = score\n",
    "print(optimal_lambda, min_score)"
   ]
  },
  {
   "cell_type": "code",
   "execution_count": 13,
   "metadata": {},
   "outputs": [
    {
     "data": {
      "image/png": "[encoded data removed]",
      "text/plain": [
       "<Figure size 936x432 with 1 Axes>"
      ]
     },
     "metadata": {},
     "output_type": "display_data"
    }
   ],
   "source": [
    "plt.figure(figsize=(13, 6))\n",
    "plt.plot(lambdas, mae_values)\n",
    "plt.title('MAE dependence on λ')\n",
    "plt.xlabel('λ')\n",
    "plt.ylabel('MAE')\n",
    "plt.show()"
   ]
  },
  {
   "cell_type": "markdown",
   "metadata": {},
   "source": [
    "По графику видно, что зависимость MAE от коэффициента сложнее, чем в предыдущий раз. Тем не менее, разброс в значениях (особенно в точках-минимумах) довольно небольшой, и можно сказать, что значение $\\lambda$ мы выбрали $\\pm$оптимальное. Теперь сравним работу RegL1 и Lasso:"
   ]
  },
  {
   "cell_type": "code",
   "execution_count": 14,
   "metadata": {},
   "outputs": [
    {
     "name": "stdout",
     "output_type": "stream",
     "text": [
      "RegL1:\n",
      "MAE: 4.053628460770161\n",
      "RMSE: 5.684928017762736\n",
      "Lasso:\n",
      "MAE: 6.255843525529023\n",
      "RMSE: 8.662876564628665\n"
     ]
    }
   ],
   "source": [
    "lr1 = RegL1()\n",
    "lr1.fit(X_train, y_train)\n",
    "y1_pred = lr1.predict(X_test)\n",
    "print('RegL1:')\n",
    "print('MAE:', mean_absolute_error(y_test, y1_pred))\n",
    "print('RMSE:', np.sqrt(mean_squared_error(y_test, y1_pred)))\n",
    "lr2 = Lasso(alpha=15)\n",
    "lr2.fit(X_train, y_train)\n",
    "y2_pred = lr2.predict(X_test)\n",
    "print('Lasso:')\n",
    "print('MAE:', mean_absolute_error(y_test, y2_pred))\n",
    "print('RMSE:', np.sqrt(mean_squared_error(y_test, y2_pred)))"
   ]
  },
  {
   "cell_type": "markdown",
   "metadata": {},
   "source": [
    "### 5 (Бонус, 2 балла). \n",
    "Исследуйте для реализации регрессии с L2-регуляризацией зависимость качества на тестовой выборке (с графиками) от:\n",
    "* Длины шага\n",
    "* Количества шагов спуска\n",
    "* Константы epsilon."
   ]
  },
  {
   "cell_type": "markdown",
   "metadata": {},
   "source": [
    "Начнем с длины шага."
   ]
  },
  {
   "cell_type": "code",
   "execution_count": 15,
   "metadata": {},
   "outputs": [
    {
     "name": "stdout",
     "output_type": "stream",
     "text": [
      "0.003799999999999999 4.689452969830968\n"
     ]
    }
   ],
   "source": [
    "step_sizes = np.arange(0.0005, 0.004, 0.0003)\n",
    "optimal_size = 0\n",
    "min_score = 1e8\n",
    "mae_values = []\n",
    "for size in step_sizes:\n",
    "    lr_reg = RegL2(step_size=size)\n",
    "    cv_results = cross_validate(lr_reg, X_train, y_train, scoring='neg_mean_absolute_error', cv=3, \n",
    "                                return_train_score=False)\n",
    "    score = np.abs((cv_results['test_score'][0] + cv_results['test_score'][1] +\n",
    "                              cv_results['test_score'][2]) / 3)\n",
    "    mae_values.append(score)\n",
    "    if score < min_score: \n",
    "        optimal_size = size\n",
    "        min_score = score\n",
    "print(optimal_size, min_score)"
   ]
  },
  {
   "cell_type": "code",
   "execution_count": 16,
   "metadata": {},
   "outputs": [
    {
     "data": {
      "image/png": "[encoded data removed]",
      "text/plain": [
       "<Figure size 936x432 with 1 Axes>"
      ]
     },
     "metadata": {},
     "output_type": "display_data"
    }
   ],
   "source": [
    "plt.figure(figsize=(13, 6))\n",
    "plt.plot(step_sizes, mae_values)\n",
    "plt.title('MAE dependence on step size in L2 regularization')\n",
    "plt.xlabel('Step size')\n",
    "plt.ylabel('MAE')\n",
    "plt.show()"
   ]
  },
  {
   "cell_type": "markdown",
   "metadata": {},
   "source": [
    "Для step_size = 0.004 MAE становится уже очень большим:"
   ]
  },
  {
   "cell_type": "code",
   "execution_count": 17,
   "metadata": {},
   "outputs": [
    {
     "name": "stdout",
     "output_type": "stream",
     "text": [
      "6.595267084281398e+57\n"
     ]
    }
   ],
   "source": [
    "lr_reg = RegL2(step_size=0.004)\n",
    "cv_results = cross_validate(lr_reg, X_train, y_train, scoring='neg_mean_absolute_error', cv=3, \n",
    "                            return_train_score=False)\n",
    "score = np.abs((cv_results['test_score'][0] + cv_results['test_score'][1] +\n",
    "                            cv_results['test_score'][2]) / 3)\n",
    "print(score)"
   ]
  },
  {
   "cell_type": "markdown",
   "metadata": {},
   "source": [
    " Теперь рассмотрим зависимость MAE от количества итераций для разных длин шага."
   ]
  },
  {
   "cell_type": "code",
   "execution_count": 18,
   "metadata": {},
   "outputs": [
    {
     "name": "stdout",
     "output_type": "stream",
     "text": [
      "9550 4.807684839568325\n"
     ]
    }
   ],
   "source": [
    "steps = np.arange(50, 10000, 500)\n",
    "optimal_step = 0\n",
    "min_score = 1e8\n",
    "mae_values = []\n",
    "for step in steps:\n",
    "    lr_reg = RegL2(num_steps=step)\n",
    "    cv_results = cross_validate(lr_reg, X_train, y_train, scoring='neg_mean_absolute_error', cv=3, \n",
    "                                return_train_score=False)\n",
    "    score = np.abs((cv_results['test_score'][0] + cv_results['test_score'][1] +\n",
    "                              cv_results['test_score'][2]) / 3)\n",
    "    mae_values.append(score)\n",
    "    if score < min_score: \n",
    "        optimal_step = step\n",
    "        min_score = score\n",
    "print(optimal_step, min_score)"
   ]
  },
  {
   "cell_type": "code",
   "execution_count": 19,
   "metadata": {},
   "outputs": [
    {
     "name": "stdout",
     "output_type": "stream",
     "text": [
      "9550 5.035118800564093\n"
     ]
    }
   ],
   "source": [
    "steps = np.arange(50, 10000, 500)\n",
    "optimal_step = 0\n",
    "min_score = 1e8\n",
    "mae_values_2 = []\n",
    "for step in steps:\n",
    "    lr_reg = RegL2(num_steps=step, step_size=0.001)\n",
    "    cv_results = cross_validate(lr_reg, X_train, y_train, scoring='neg_mean_absolute_error', cv=3, \n",
    "                                return_train_score=False)\n",
    "    score = np.abs((cv_results['test_score'][0] + cv_results['test_score'][1] +\n",
    "                              cv_results['test_score'][2]) / 3)\n",
    "    mae_values_2.append(score)\n",
    "    if score < min_score: \n",
    "        optimal_step = step\n",
    "        min_score = score\n",
    "print(optimal_step, min_score)"
   ]
  },
  {
   "cell_type": "code",
   "execution_count": 20,
   "metadata": {},
   "outputs": [
    {
     "name": "stdout",
     "output_type": "stream",
     "text": [
      "9550 5.334990246160944\n"
     ]
    }
   ],
   "source": [
    "steps = np.arange(50, 10000, 500)\n",
    "optimal_step = 0\n",
    "min_score = 1e8\n",
    "mae_values_3 = []\n",
    "for step in steps:\n",
    "    lr_reg = RegL2(num_steps=step, step_size=0.0005)\n",
    "    cv_results = cross_validate(lr_reg, X_train, y_train, scoring='neg_mean_absolute_error', cv=3, \n",
    "                                return_train_score=False)\n",
    "    score = np.abs((cv_results['test_score'][0] + cv_results['test_score'][1] +\n",
    "                              cv_results['test_score'][2]) / 3)\n",
    "    mae_values_3.append(score)\n",
    "    if score < min_score: \n",
    "        optimal_step = step\n",
    "        min_score = score\n",
    "print(optimal_step, min_score)"
   ]
  },
  {
   "cell_type": "code",
   "execution_count": 21,
   "metadata": {},
   "outputs": [
    {
     "name": "stdout",
     "output_type": "stream",
     "text": [
      "9550 4.7067646714951\n"
     ]
    }
   ],
   "source": [
    "steps = np.arange(50, 10000, 500)\n",
    "optimal_step = 0\n",
    "min_score = 1e8\n",
    "mae_values_4 = []\n",
    "for step in steps:\n",
    "    lr_reg = RegL2(num_steps=step, step_size=0.0035)\n",
    "    cv_results = cross_validate(lr_reg, X_train, y_train, scoring='neg_mean_absolute_error', cv=3, \n",
    "                                return_train_score=False)\n",
    "    score = np.abs((cv_results['test_score'][0] + cv_results['test_score'][1] +\n",
    "                              cv_results['test_score'][2]) / 3)\n",
    "    mae_values_4.append(score)\n",
    "    if score < min_score: \n",
    "        optimal_step = step\n",
    "        min_score = score\n",
    "print(optimal_step, min_score)"
   ]
  },
  {
   "cell_type": "code",
   "execution_count": 22,
   "metadata": {},
   "outputs": [
    {
     "data": {
      "image/png": "[encoded data removed]",
      "text/plain": [
       "<Figure size 936x432 with 1 Axes>"
      ]
     },
     "metadata": {},
     "output_type": "display_data"
    }
   ],
   "source": [
    "plt.figure(figsize=(13, 6))\n",
    "plt.plot(steps, mae_values_3, label='0.0005')\n",
    "plt.plot(steps, mae_values_2, label='0.001')\n",
    "plt.plot(steps, mae_values, label='0.002')\n",
    "plt.plot(steps, mae_values_4, label='0.0035')\n",
    "plt.legend(facecolor='white')\n",
    "plt.title('MAE dependence on number of steps in L2 regularization for different step sizes')\n",
    "plt.xlabel('Number of steps')\n",
    "plt.ylabel('MAE')\n",
    "plt.show()"
   ]
  },
  {
   "cell_type": "markdown",
   "metadata": {},
   "source": [
    "Видно, что зависимость выглядит примерно одинаково во всех случаях, и что чем больше итераций, тем лучше. Теперь найдём зависимость MAE от eps:"
   ]
  },
  {
   "cell_type": "code",
   "execution_count": 26,
   "metadata": {},
   "outputs": [
    {
     "name": "stdout",
     "output_type": "stream",
     "text": [
      "1e-06 4.699853422591321\n"
     ]
    }
   ],
   "source": [
    "epsilons = [1e-10, 1e-9, 1e-8, 1e-7, 1e-6, 1e-5, 1e-4]\n",
    "optimal_eps = 0\n",
    "min_score = 1e8\n",
    "mae_values = []\n",
    "for eps in epsilons:\n",
    "    lr_reg = RegL2(eps=eps, step_size=0.0035)\n",
    "    cv_results = cross_validate(lr_reg, X_train, y_train, scoring='neg_mean_absolute_error', cv=3, \n",
    "                                return_train_score=False)\n",
    "    score = np.abs((cv_results['test_score'][0] + cv_results['test_score'][1] +\n",
    "                              cv_results['test_score'][2]) / 3)\n",
    "    mae_values.append(score)\n",
    "    if score < min_score: \n",
    "        optimal_eps = eps\n",
    "        min_score = score\n",
    "print(optimal_eps, min_score)"
   ]
  },
  {
   "cell_type": "code",
   "execution_count": 27,
   "metadata": {},
   "outputs": [
    {
     "name": "stdout",
     "output_type": "stream",
     "text": [
      "[4.700316560382635, 4.699872554195721, 4.700413529240365, 4.700149172921111, 4.699853422591321, 4.7001232680899605, 4.700096531464685]\n"
     ]
    }
   ],
   "source": [
    "print(mae_values) "
   ]
  },
  {
   "cell_type": "code",
   "execution_count": 29,
   "metadata": {},
   "outputs": [
    {
     "data": {
      "image/png": "[encoded data removed]",
      "text/plain": [
       "<Figure size 936x432 with 1 Axes>"
      ]
     },
     "metadata": {},
     "output_type": "display_data"
    }
   ],
   "source": [
    "mae_values = np.array(mae_values) - 4.7\n",
    "plt.figure(figsize=(13, 6))\n",
    "plt.bar(range(len(epsilons)), mae_values)\n",
    "plt.xticks(range(len(epsilons)), epsilons)\n",
    "plt.title('MAE dependence on epsilon in L2 regularization')\n",
    "plt.xlabel('eps')\n",
    "plt.ylabel('MAE')\n",
    "plt.show()"
   ]
  },
  {
   "cell_type": "markdown",
   "metadata": {},
   "source": [
    "### 6 (Бонус, 0 баллов). \n",
    "Вставьте сюда любимую картинку, которая сможет поднять настроение ассистенту и семинаристу"
   ]
  },
  {
   "cell_type": "markdown",
   "metadata": {},
   "source": [
    "<img src='https://pp.userapi.com/c851536/v851536811/1d18f/qRY2CNLjPYk.jpg' width='450'>"
   ]
  }
 ],
 "metadata": {
  "kernelspec": {
   "display_name": "Python 3",
   "language": "python",
   "name": "python3"
  },
  "language_info": {
   "codemirror_mode": {
    "name": "ipython",
    "version": 3
   },
   "file_extension": ".py",
   "mimetype": "text/x-python",
   "name": "python",
   "nbconvert_exporter": "python",
   "pygments_lexer": "ipython3",
   "version": "3.7.3"
  }
 },
 "nbformat": 4,
 "nbformat_minor": 2
}
